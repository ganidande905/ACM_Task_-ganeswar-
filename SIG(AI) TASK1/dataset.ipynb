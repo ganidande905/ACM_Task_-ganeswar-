{
  "nbformat": 4,
  "nbformat_minor": 0,
  "metadata": {
    "colab": {
      "provenance": []
    },
    "kernelspec": {
      "name": "python3",
      "display_name": "Python 3"
    },
    "language_info": {
      "name": "python"
    }
  },
  "cells": [
    {
      "cell_type": "code",
      "execution_count": 1,
      "metadata": {
        "colab": {
          "base_uri": "https://localhost:8080/",
          "height": 73
        },
        "id": "20AmeBXV8QU1",
        "outputId": "2790ed66-f1cf-48a0-c63d-e2c053b30264"
      },
      "outputs": [
        {
          "output_type": "display_data",
          "data": {
            "text/plain": [
              "<IPython.core.display.HTML object>"
            ],
            "text/html": [
              "\n",
              "     <input type=\"file\" id=\"files-73396af8-d14b-4ebe-b57e-81b95379f3d6\" name=\"files[]\" multiple disabled\n",
              "        style=\"border:none\" />\n",
              "     <output id=\"result-73396af8-d14b-4ebe-b57e-81b95379f3d6\">\n",
              "      Upload widget is only available when the cell has been executed in the\n",
              "      current browser session. Please rerun this cell to enable.\n",
              "      </output>\n",
              "      <script>// Copyright 2017 Google LLC\n",
              "//\n",
              "// Licensed under the Apache License, Version 2.0 (the \"License\");\n",
              "// you may not use this file except in compliance with the License.\n",
              "// You may obtain a copy of the License at\n",
              "//\n",
              "//      http://www.apache.org/licenses/LICENSE-2.0\n",
              "//\n",
              "// Unless required by applicable law or agreed to in writing, software\n",
              "// distributed under the License is distributed on an \"AS IS\" BASIS,\n",
              "// WITHOUT WARRANTIES OR CONDITIONS OF ANY KIND, either express or implied.\n",
              "// See the License for the specific language governing permissions and\n",
              "// limitations under the License.\n",
              "\n",
              "/**\n",
              " * @fileoverview Helpers for google.colab Python module.\n",
              " */\n",
              "(function(scope) {\n",
              "function span(text, styleAttributes = {}) {\n",
              "  const element = document.createElement('span');\n",
              "  element.textContent = text;\n",
              "  for (const key of Object.keys(styleAttributes)) {\n",
              "    element.style[key] = styleAttributes[key];\n",
              "  }\n",
              "  return element;\n",
              "}\n",
              "\n",
              "// Max number of bytes which will be uploaded at a time.\n",
              "const MAX_PAYLOAD_SIZE = 100 * 1024;\n",
              "\n",
              "function _uploadFiles(inputId, outputId) {\n",
              "  const steps = uploadFilesStep(inputId, outputId);\n",
              "  const outputElement = document.getElementById(outputId);\n",
              "  // Cache steps on the outputElement to make it available for the next call\n",
              "  // to uploadFilesContinue from Python.\n",
              "  outputElement.steps = steps;\n",
              "\n",
              "  return _uploadFilesContinue(outputId);\n",
              "}\n",
              "\n",
              "// This is roughly an async generator (not supported in the browser yet),\n",
              "// where there are multiple asynchronous steps and the Python side is going\n",
              "// to poll for completion of each step.\n",
              "// This uses a Promise to block the python side on completion of each step,\n",
              "// then passes the result of the previous step as the input to the next step.\n",
              "function _uploadFilesContinue(outputId) {\n",
              "  const outputElement = document.getElementById(outputId);\n",
              "  const steps = outputElement.steps;\n",
              "\n",
              "  const next = steps.next(outputElement.lastPromiseValue);\n",
              "  return Promise.resolve(next.value.promise).then((value) => {\n",
              "    // Cache the last promise value to make it available to the next\n",
              "    // step of the generator.\n",
              "    outputElement.lastPromiseValue = value;\n",
              "    return next.value.response;\n",
              "  });\n",
              "}\n",
              "\n",
              "/**\n",
              " * Generator function which is called between each async step of the upload\n",
              " * process.\n",
              " * @param {string} inputId Element ID of the input file picker element.\n",
              " * @param {string} outputId Element ID of the output display.\n",
              " * @return {!Iterable<!Object>} Iterable of next steps.\n",
              " */\n",
              "function* uploadFilesStep(inputId, outputId) {\n",
              "  const inputElement = document.getElementById(inputId);\n",
              "  inputElement.disabled = false;\n",
              "\n",
              "  const outputElement = document.getElementById(outputId);\n",
              "  outputElement.innerHTML = '';\n",
              "\n",
              "  const pickedPromise = new Promise((resolve) => {\n",
              "    inputElement.addEventListener('change', (e) => {\n",
              "      resolve(e.target.files);\n",
              "    });\n",
              "  });\n",
              "\n",
              "  const cancel = document.createElement('button');\n",
              "  inputElement.parentElement.appendChild(cancel);\n",
              "  cancel.textContent = 'Cancel upload';\n",
              "  const cancelPromise = new Promise((resolve) => {\n",
              "    cancel.onclick = () => {\n",
              "      resolve(null);\n",
              "    };\n",
              "  });\n",
              "\n",
              "  // Wait for the user to pick the files.\n",
              "  const files = yield {\n",
              "    promise: Promise.race([pickedPromise, cancelPromise]),\n",
              "    response: {\n",
              "      action: 'starting',\n",
              "    }\n",
              "  };\n",
              "\n",
              "  cancel.remove();\n",
              "\n",
              "  // Disable the input element since further picks are not allowed.\n",
              "  inputElement.disabled = true;\n",
              "\n",
              "  if (!files) {\n",
              "    return {\n",
              "      response: {\n",
              "        action: 'complete',\n",
              "      }\n",
              "    };\n",
              "  }\n",
              "\n",
              "  for (const file of files) {\n",
              "    const li = document.createElement('li');\n",
              "    li.append(span(file.name, {fontWeight: 'bold'}));\n",
              "    li.append(span(\n",
              "        `(${file.type || 'n/a'}) - ${file.size} bytes, ` +\n",
              "        `last modified: ${\n",
              "            file.lastModifiedDate ? file.lastModifiedDate.toLocaleDateString() :\n",
              "                                    'n/a'} - `));\n",
              "    const percent = span('0% done');\n",
              "    li.appendChild(percent);\n",
              "\n",
              "    outputElement.appendChild(li);\n",
              "\n",
              "    const fileDataPromise = new Promise((resolve) => {\n",
              "      const reader = new FileReader();\n",
              "      reader.onload = (e) => {\n",
              "        resolve(e.target.result);\n",
              "      };\n",
              "      reader.readAsArrayBuffer(file);\n",
              "    });\n",
              "    // Wait for the data to be ready.\n",
              "    let fileData = yield {\n",
              "      promise: fileDataPromise,\n",
              "      response: {\n",
              "        action: 'continue',\n",
              "      }\n",
              "    };\n",
              "\n",
              "    // Use a chunked sending to avoid message size limits. See b/62115660.\n",
              "    let position = 0;\n",
              "    do {\n",
              "      const length = Math.min(fileData.byteLength - position, MAX_PAYLOAD_SIZE);\n",
              "      const chunk = new Uint8Array(fileData, position, length);\n",
              "      position += length;\n",
              "\n",
              "      const base64 = btoa(String.fromCharCode.apply(null, chunk));\n",
              "      yield {\n",
              "        response: {\n",
              "          action: 'append',\n",
              "          file: file.name,\n",
              "          data: base64,\n",
              "        },\n",
              "      };\n",
              "\n",
              "      let percentDone = fileData.byteLength === 0 ?\n",
              "          100 :\n",
              "          Math.round((position / fileData.byteLength) * 100);\n",
              "      percent.textContent = `${percentDone}% done`;\n",
              "\n",
              "    } while (position < fileData.byteLength);\n",
              "  }\n",
              "\n",
              "  // All done.\n",
              "  yield {\n",
              "    response: {\n",
              "      action: 'complete',\n",
              "    }\n",
              "  };\n",
              "}\n",
              "\n",
              "scope.google = scope.google || {};\n",
              "scope.google.colab = scope.google.colab || {};\n",
              "scope.google.colab._files = {\n",
              "  _uploadFiles,\n",
              "  _uploadFilesContinue,\n",
              "};\n",
              "})(self);\n",
              "</script> "
            ]
          },
          "metadata": {}
        },
        {
          "output_type": "stream",
          "name": "stdout",
          "text": [
            "Saving dataset.csv to dataset.csv\n"
          ]
        }
      ],
      "source": [
        "from google.colab import files\n",
        "uploaded = files.upload()\n"
      ]
    },
    {
      "cell_type": "code",
      "source": [
        "import pandas as pd\n",
        "df=pd.read_csv(\"dataset.csv\")\n",
        "summary=df.describe()\n",
        "print(summary)"
      ],
      "metadata": {
        "colab": {
          "base_uri": "https://localhost:8080/"
        },
        "id": "OJ3C0BtS8oCN",
        "outputId": "e01633ee-d67f-498f-c001-18f2bf26ee1e"
      },
      "execution_count": 4,
      "outputs": [
        {
          "output_type": "stream",
          "name": "stdout",
          "text": [
            "               No      Pclass         Age       SibSp       Parch        Fare\n",
            "count  891.000000  891.000000  714.000000  891.000000  891.000000  891.000000\n",
            "mean   446.000000    2.308642   29.699118    0.523008    0.381594   32.204208\n",
            "std    257.353842    0.836071   14.526497    1.102743    0.806057   49.693429\n",
            "min      1.000000    1.000000    0.420000    0.000000    0.000000    0.000000\n",
            "25%    223.500000    2.000000   20.125000    0.000000    0.000000    7.910400\n",
            "50%    446.000000    3.000000   28.000000    0.000000    0.000000   14.454200\n",
            "75%    668.500000    3.000000   38.000000    1.000000    0.000000   31.000000\n",
            "max    891.000000    3.000000   80.000000    8.000000    6.000000  512.329200\n"
          ]
        }
      ]
    },
    {
      "cell_type": "markdown",
      "source": [
        "i think this dataset is based on the ticket prices for every individual based on their starting point.Using this describe() fucntion we get the min max and other things\n"
      ],
      "metadata": {
        "id": "S_bYcTEi9jO7"
      }
    },
    {
      "cell_type": "code",
      "source": [
        "import pandas as pd\n",
        "df=pd.read_csv('dataset.csv')\n",
        "df_fill=df.fillna(\"unknown\")\n",
        "print(df_fill)"
      ],
      "metadata": {
        "colab": {
          "base_uri": "https://localhost:8080/"
        },
        "id": "zpi216ow-BK5",
        "outputId": "8052cf61-12a9-44f0-c07d-e406146129b2"
      },
      "execution_count": 11,
      "outputs": [
        {
          "output_type": "stream",
          "name": "stdout",
          "text": [
            "      No Survived  Pclass                                               Name  \\\n",
            "0      1       No       3                            Braund, Mr. Owen Harris   \n",
            "1      2      Yes       1  Cumings, Mrs. John Bradley (Florence Briggs Th...   \n",
            "2      3      Yes       3                             Heikkinen, Miss. Laina   \n",
            "3      4      Yes       1       Futrelle, Mrs. Jacques Heath (Lily May Peel)   \n",
            "4      5       No       3                           Allen, Mr. William Henry   \n",
            "..   ...      ...     ...                                                ...   \n",
            "886  887       No       2                              Montvila, Rev. Juozas   \n",
            "887  888      Yes       1                       Graham, Miss. Margaret Edith   \n",
            "888  889       No       3           Johnston, Miss. Catherine Helen \"Carrie\"   \n",
            "889  890      Yes       1                              Behr, Mr. Karl Howell   \n",
            "890  891       No       3                                Dooley, Mr. Patrick   \n",
            "\n",
            "        Sex      Age  SibSp  Parch            Ticket     Fare    Cabin  \\\n",
            "0      male     22.0      1      0         A/5 21171   7.2500  unknown   \n",
            "1    female     38.0      1      0          PC 17599  71.2833      C85   \n",
            "2    female     26.0      0      0  STON/O2. 3101282   7.9250  unknown   \n",
            "3    female     35.0      1      0            113803  53.1000     C123   \n",
            "4      male     35.0      0      0            373450   8.0500  unknown   \n",
            "..      ...      ...    ...    ...               ...      ...      ...   \n",
            "886    male     27.0      0      0            211536  13.0000  unknown   \n",
            "887  female     19.0      0      0            112053  30.0000      B42   \n",
            "888  female  unknown      1      2        W./C. 6607  23.4500  unknown   \n",
            "889    male     26.0      0      0            111369  30.0000     C148   \n",
            "890    male     32.0      0      0            370376   7.7500  unknown   \n",
            "\n",
            "    Embarked  \n",
            "0          S  \n",
            "1          C  \n",
            "2          S  \n",
            "3          S  \n",
            "4          S  \n",
            "..       ...  \n",
            "886        S  \n",
            "887        S  \n",
            "888        S  \n",
            "889        C  \n",
            "890        Q  \n",
            "\n",
            "[891 rows x 12 columns]\n"
          ]
        }
      ]
    },
    {
      "cell_type": "markdown",
      "source": [
        "in the above code ive replaced every null value with \"unknown\""
      ],
      "metadata": {
        "id": "xXxB24YsAAx-"
      }
    },
    {
      "cell_type": "code",
      "source": [
        "import pandas as pd\n",
        "df=pd.read_csv('dataset.csv')\n",
        "changed=df.rename(columns={'No':'PassengerID'})\n",
        "print(changed)"
      ],
      "metadata": {
        "colab": {
          "base_uri": "https://localhost:8080/"
        },
        "id": "vvhEq53tAHTn",
        "outputId": "741c77ac-5a1e-47be-9664-ea5024a2aa62"
      },
      "execution_count": 18,
      "outputs": [
        {
          "output_type": "stream",
          "name": "stdout",
          "text": [
            "     PassengerID Survived  Pclass  \\\n",
            "0              1       No       3   \n",
            "1              2      Yes       1   \n",
            "2              3      Yes       3   \n",
            "3              4      Yes       1   \n",
            "4              5       No       3   \n",
            "..           ...      ...     ...   \n",
            "886          887       No       2   \n",
            "887          888      Yes       1   \n",
            "888          889       No       3   \n",
            "889          890      Yes       1   \n",
            "890          891       No       3   \n",
            "\n",
            "                                                  Name     Sex   Age  SibSp  \\\n",
            "0                              Braund, Mr. Owen Harris    male  22.0      1   \n",
            "1    Cumings, Mrs. John Bradley (Florence Briggs Th...  female  38.0      1   \n",
            "2                               Heikkinen, Miss. Laina  female  26.0      0   \n",
            "3         Futrelle, Mrs. Jacques Heath (Lily May Peel)  female  35.0      1   \n",
            "4                             Allen, Mr. William Henry    male  35.0      0   \n",
            "..                                                 ...     ...   ...    ...   \n",
            "886                              Montvila, Rev. Juozas    male  27.0      0   \n",
            "887                       Graham, Miss. Margaret Edith  female  19.0      0   \n",
            "888           Johnston, Miss. Catherine Helen \"Carrie\"  female   NaN      1   \n",
            "889                              Behr, Mr. Karl Howell    male  26.0      0   \n",
            "890                                Dooley, Mr. Patrick    male  32.0      0   \n",
            "\n",
            "     Parch            Ticket     Fare Cabin Embarked  \n",
            "0        0         A/5 21171   7.2500   NaN        S  \n",
            "1        0          PC 17599  71.2833   C85        C  \n",
            "2        0  STON/O2. 3101282   7.9250   NaN        S  \n",
            "3        0            113803  53.1000  C123        S  \n",
            "4        0            373450   8.0500   NaN        S  \n",
            "..     ...               ...      ...   ...      ...  \n",
            "886      0            211536  13.0000   NaN        S  \n",
            "887      0            112053  30.0000   B42        S  \n",
            "888      2        W./C. 6607  23.4500   NaN        S  \n",
            "889      0            111369  30.0000  C148        C  \n",
            "890      0            370376   7.7500   NaN        Q  \n",
            "\n",
            "[891 rows x 12 columns]\n"
          ]
        }
      ]
    },
    {
      "cell_type": "code",
      "source": [
        "import matplotlib.pyplot as plt\n",
        "import numpy as np\n",
        "import pandas as pd\n",
        "df=pd.read_csv('dataset.csv')\n",
        "\n",
        "\n",
        "\n",
        "plt.style.use('_mpl-gallery')\n",
        "\n",
        "\n",
        "age = df['Age']\n",
        "fare = df['Fare']\n",
        "\n",
        "\n",
        "sizes = np.random.uniform(15, 80, len(age))\n",
        "colors = np.random.uniform(15, 80, len(age))\n",
        "\n",
        "\n",
        "fig, ax = plt.subplots()\n",
        "\n",
        "ax.scatter(age, fare, s=sizes, c=colors, vmin=0, vmax=100)\n",
        "\n",
        "ax.set(xlim=(0, df['Age'].max() + 5),\n",
        "       ylim=(0, df['Fare'].max() + 5),\n",
        "       xlabel='Age',\n",
        "       ylabel='Fare',\n",
        "       title='Age vs. Fare')\n",
        "\n",
        "plt.show()\n",
        "\n"
      ],
      "metadata": {
        "colab": {
          "base_uri": "https://localhost:8080/",
          "height": 293
        },
        "id": "kO_c19wHBB3e",
        "outputId": "f3122947-996e-4bfb-9e04-3b85958954ca"
      },
      "execution_count": 24,
      "outputs": [
        {
          "output_type": "display_data",
          "data": {
            "text/plain": [
              "<Figure size 200x200 with 1 Axes>"
            ],
            "image/png": "[encoded data removed]"
          },
          "metadata": {}
        }
      ]
    },
    {
      "cell_type": "markdown",
      "source": [
        "so yea being pretty honest ive changed the code which is there in matplotlib..ive basically changed x in code to age and y to fare\n",
        "and for the last lines I used help of chat gpt as im not well versed with this\n",
        "and xlabel ylabel i learnt in my mathlab so i tried it out which worked out pretty well\n",
        "ive plotted the scattered graph for age vs fare"
      ],
      "metadata": {
        "id": "ohLNL-8iGux-"
      }
    },
    {
      "cell_type": "code",
      "source": [],
      "metadata": {
        "id": "PyvKnV2iHP4G"
      },
      "execution_count": null,
      "outputs": []
    }
  ]
}